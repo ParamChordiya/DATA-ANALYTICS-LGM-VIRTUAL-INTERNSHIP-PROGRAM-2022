{
 "cells": [
  {
   "cell_type": "code",
   "execution_count": 1,
   "metadata": {
    "_cell_guid": "b1076dfc-b9ad-4769-8c92-a6c4dae69d19",
    "_kg_hide-output": true,
    "_uuid": "8f2839f25d086af736a60e9eeb907d3b93b6e0e5",
    "execution": {
     "iopub.execute_input": "2021-10-03T04:38:11.990187Z",
     "iopub.status.busy": "2021-10-03T04:38:11.988156Z",
     "iopub.status.idle": "2021-10-03T04:38:38.425507Z",
     "shell.execute_reply": "2021-10-03T04:38:38.424244Z",
     "shell.execute_reply.started": "2021-10-02T05:26:00.320451Z"
    },
    "id": "5ed29a2e",
    "outputId": "6d272b83-206e-4dbb-c1cd-1f89d68fe114",
    "papermill": {
     "duration": 26.460349,
     "end_time": "2021-10-03T04:38:38.425837",
     "exception": false,
     "start_time": "2021-10-03T04:38:11.965488",
     "status": "completed"
    },
    "scrolled": true,
    "tags": []
   },
   "outputs": [],
   "source": [
    "# This Python 3 environment comes with many helpful analytics libraries installed\n",
    "# It is defined by the kaggle/python Docker image: https://github.com/kaggle/docker-python\n",
    "# For example, here's several helpful packages to load\n",
    "\n",
    "import numpy as np # linear algebra\n",
    "import pandas as pd # data processing, CSV file I/O (e.g. pd.read_csv)\n",
    "\n",
    "# Input data files are available in the read-only \"../input/\" directory\n",
    "# For example, running this (by clicking run or pressing Shift+Enter) will list all files under the input directory\n",
    "\n",
    "import os\n",
    "for dirname, _, filenames in os.walk('/kaggle/input'):\n",
    "    for filename in filenames:\n",
    "        print(os.path.join(dirname, filename))\n",
    "\n",
    "# You can write up to 20GB to the current directory (/kaggle/working/) that gets preserved as output when you create a version using \"Save & Run All\" \n",
    "# You can also write temporary files to /kaggle/temp/, but they won't be saved outside of the current session"
   ]
  },
  {
   "cell_type": "code",
   "execution_count": 2,
   "metadata": {
    "execution": {
     "iopub.execute_input": "2021-10-03T04:38:38.641691Z",
     "iopub.status.busy": "2021-10-03T04:38:38.640306Z",
     "iopub.status.idle": "2021-10-03T04:38:38.643735Z",
     "shell.execute_reply": "2021-10-03T04:38:38.642964Z",
     "shell.execute_reply.started": "2021-10-02T05:26:04.92059Z"
    },
    "id": "00cf1e55",
    "papermill": {
     "duration": 0.097132,
     "end_time": "2021-10-03T04:38:38.643913",
     "exception": false,
     "start_time": "2021-10-03T04:38:38.546781",
     "status": "completed"
    },
    "tags": []
   },
   "outputs": [],
   "source": [
    "import numpy as np\n",
    "import pandas as pd\n",
    "import matplotlib.pyplot as plt\n",
    "import warnings\n",
    "warnings.filterwarnings('ignore')"
   ]
  },
  {
   "cell_type": "code",
   "execution_count": 3,
   "metadata": {
    "execution": {
     "iopub.execute_input": "2021-10-03T04:38:38.819734Z",
     "iopub.status.busy": "2021-10-03T04:38:38.818800Z",
     "iopub.status.idle": "2021-10-03T04:38:38.821415Z",
     "shell.execute_reply": "2021-10-03T04:38:38.821907Z",
     "shell.execute_reply.started": "2021-10-02T05:26:04.925899Z"
    },
    "id": "d9ba609a",
    "papermill": {
     "duration": 0.093154,
     "end_time": "2021-10-03T04:38:38.822058",
     "exception": false,
     "start_time": "2021-10-03T04:38:38.728904",
     "status": "completed"
    },
    "tags": []
   },
   "outputs": [],
   "source": [
    "train_dir = 'fer2013/train'\n",
    "test_dir = 'fer2013/test'"
   ]
  },
  {
   "cell_type": "code",
   "execution_count": 4,
   "metadata": {
    "execution": {
     "iopub.execute_input": "2021-10-03T04:38:39.001235Z",
     "iopub.status.busy": "2021-10-03T04:38:39.000356Z",
     "iopub.status.idle": "2021-10-03T04:38:44.268877Z",
     "shell.execute_reply": "2021-10-03T04:38:44.268017Z",
     "shell.execute_reply.started": "2021-10-02T05:26:04.938539Z"
    },
    "id": "5422dc4c",
    "outputId": "5f914717-1af7-421b-cba9-022f45257c92",
    "papermill": {
     "duration": 5.361189,
     "end_time": "2021-10-03T04:38:44.269028",
     "exception": false,
     "start_time": "2021-10-03T04:38:38.907839",
     "status": "completed"
    },
    "tags": []
   },
   "outputs": [
    {
     "data": {
      "text/plain": [
       "<matplotlib.image.AxesImage at 0x223456562c8>"
      ]
     },
     "execution_count": 4,
     "metadata": {},
     "output_type": "execute_result"
    },
    {
     "data": {
      "image/png": "[encoded data removed]",
      "text/plain": [
       "<Figure size 432x288 with 1 Axes>"
      ]
     },
     "metadata": {
      "needs_background": "light"
     },
     "output_type": "display_data"
    }
   ],
   "source": [
    "import tensorflow as tf\n",
    "from tensorflow.keras.preprocessing import image\n",
    "img = image.load_img('fer2013/train/happy/Training_10181727.jpg', target_size=(48,48), color_mode='grayscale')\n",
    "plt.imshow(img)"
   ]
  },
  {
   "cell_type": "code",
   "execution_count": 5,
   "metadata": {
    "_kg_hide-output": true,
    "execution": {
     "iopub.execute_input": "2021-10-03T04:38:44.459212Z",
     "iopub.status.busy": "2021-10-03T04:38:44.458306Z",
     "iopub.status.idle": "2021-10-03T04:38:46.427937Z",
     "shell.execute_reply": "2021-10-03T04:38:46.428484Z",
     "shell.execute_reply.started": "2021-10-02T05:26:30.990067Z"
    },
    "id": "f9e80f79",
    "outputId": "a08b2671-dcda-434c-98a9-49c947b70780",
    "papermill": {
     "duration": 2.067639,
     "end_time": "2021-10-03T04:38:46.428679",
     "exception": false,
     "start_time": "2021-10-03T04:38:44.361040",
     "status": "completed"
    },
    "tags": []
   },
   "outputs": [
    {
     "name": "stdout",
     "output_type": "stream",
     "text": [
      "Found 28709 images belonging to 7 classes.\n"
     ]
    }
   ],
   "source": [
    "from tensorflow.keras.preprocessing.image import ImageDataGenerator\n",
    "train_gen = ImageDataGenerator(rotation_range=20,\n",
    "                              rescale=1./255,\n",
    "                              shear_range=0.1,\n",
    "                              zoom_range=0.2,\n",
    "                              horizontal_flip=True,\n",
    "                              width_shift_range=0.1,\n",
    "                              height_shift_range=0.1)\n",
    "\n",
    "training_data = train_gen.flow_from_directory(train_dir,\n",
    "                                             target_size=(224,224),\n",
    "                                             batch_size=64,\n",
    "                                             color_mode = \"grayscale\",\n",
    "                                             class_mode = \"categorical\")"
   ]
  },
  {
   "cell_type": "code",
   "execution_count": 6,
   "metadata": {
    "execution": {
     "iopub.execute_input": "2021-10-03T04:38:46.613593Z",
     "iopub.status.busy": "2021-10-03T04:38:46.612810Z",
     "iopub.status.idle": "2021-10-03T04:38:47.145001Z",
     "shell.execute_reply": "2021-10-03T04:38:47.145516Z",
     "shell.execute_reply.started": "2021-10-02T05:26:33.628398Z"
    },
    "id": "1eaf1035",
    "outputId": "d3759070-e72b-4737-ea1d-28f0d4936959",
    "papermill": {
     "duration": 0.627911,
     "end_time": "2021-10-03T04:38:47.145714",
     "exception": false,
     "start_time": "2021-10-03T04:38:46.517803",
     "status": "completed"
    },
    "tags": []
   },
   "outputs": [
    {
     "name": "stdout",
     "output_type": "stream",
     "text": [
      "Found 7178 images belonging to 7 classes.\n"
     ]
    }
   ],
   "source": [
    "valid_gen = ImageDataGenerator(rescale=1./255)\n",
    "\n",
    "valid_data = valid_gen.flow_from_directory(test_dir,\n",
    "                                          target_size=(224,224),\n",
    "                                          batch_size=64,\n",
    "                                          color_mode='grayscale',\n",
    "                                          class_mode='categorical')"
   ]
  },
  {
   "cell_type": "code",
   "execution_count": 7,
   "metadata": {
    "execution": {
     "iopub.execute_input": "2021-10-03T04:38:47.334178Z",
     "iopub.status.busy": "2021-10-03T04:38:47.333186Z",
     "iopub.status.idle": "2021-10-03T04:38:52.828368Z",
     "shell.execute_reply": "2021-10-03T04:38:52.827180Z",
     "shell.execute_reply.started": "2021-10-02T05:26:55.669219Z"
    },
    "id": "26d1ddb8",
    "outputId": "a81d67c2-828e-4b92-921f-1280110fb85e",
    "papermill": {
     "duration": 5.592892,
     "end_time": "2021-10-03T04:38:52.828524",
     "exception": false,
     "start_time": "2021-10-03T04:38:47.235632",
     "status": "completed"
    },
    "tags": []
   },
   "outputs": [
    {
     "name": "stdout",
     "output_type": "stream",
     "text": [
      "Downloading data from https://storage.googleapis.com/tensorflow/keras-applications/vgg19/vgg19_weights_tf_dim_ordering_tf_kernels_notop.h5\n",
      "80142336/80134624 [==============================] - 23s 0us/step\n"
     ]
    }
   ],
   "source": [
    "from tensorflow.keras.applications.vgg19 import VGG19\n",
    "\n",
    "vgg = VGG19(weights='imagenet', include_top=False)\n",
    "\n",
    "for layer in vgg.layers:\n",
    "    layer.trainable = False"
   ]
  },
  {
   "cell_type": "code",
   "execution_count": 8,
   "metadata": {
    "execution": {
     "iopub.execute_input": "2021-10-03T04:38:53.034296Z",
     "iopub.status.busy": "2021-10-03T04:38:53.032679Z",
     "iopub.status.idle": "2021-10-03T04:38:53.126856Z",
     "shell.execute_reply": "2021-10-03T04:38:53.125895Z",
     "shell.execute_reply.started": "2021-10-02T05:27:08.359216Z"
    },
    "id": "cb9a265a",
    "papermill": {
     "duration": 0.202541,
     "end_time": "2021-10-03T04:38:53.127057",
     "exception": false,
     "start_time": "2021-10-03T04:38:52.924516",
     "status": "completed"
    },
    "tags": []
   },
   "outputs": [],
   "source": [
    "from tensorflow.keras.layers import Conv2D, BatchNormalization, MaxPool2D, Dropout, Flatten, Dense, Input\n",
    "from tensorflow.keras.models import Model\n",
    "\n",
    "input = Input(shape=(224,224,1))\n",
    "\n",
    "conv = Conv2D(3, kernel_size=(3,3), padding='same')(input)\n",
    "\n",
    "vgg = vgg(conv)\n",
    "    \n",
    "x = Flatten()(vgg)\n",
    "\n",
    "pred = Dense(7, activation='softmax')(x)\n",
    "\n",
    "model = Model(inputs=input, outputs=pred)"
   ]
  },
  {
   "cell_type": "code",
   "execution_count": 9,
   "metadata": {
    "_kg_hide-input": true,
    "execution": {
     "iopub.execute_input": "2021-10-03T04:38:53.323724Z",
     "iopub.status.busy": "2021-10-03T04:38:53.322606Z",
     "iopub.status.idle": "2021-10-03T04:38:53.324990Z",
     "shell.execute_reply": "2021-10-03T04:38:53.325594Z"
    },
    "id": "5ee9e9be",
    "papermill": {
     "duration": 0.103595,
     "end_time": "2021-10-03T04:38:53.325796",
     "exception": false,
     "start_time": "2021-10-03T04:38:53.222201",
     "status": "completed"
    },
    "scrolled": true,
    "tags": []
   },
   "outputs": [],
   "source": [
    "# from tensorflow.keras.layers import Conv2D, BatchNormalization, MaxPool2D, Dropout, Flatten, Dense\n",
    "\n",
    "# model = tf.keras.models.Sequential()\n",
    "\n",
    "# model.add(Conv2D(32, kernel_size=3, activation='relu', input_shape=(48, 48,1)))\n",
    "# model.add(Conv2D(32, kernel_size=3, activation='relu' ))\n",
    "# model.add(BatchNormalization())\n",
    "# model.add(MaxPool2D())\n",
    "# model.add(Dropout(0.2))\n",
    "\n",
    "# model.add(Conv2D(64, kernel_size=3, activation='relu'))\n",
    "# model.add(Conv2D(64, kernel_size=3, activation='relu' ))\n",
    "# model.add(BatchNormalization())\n",
    "# model.add(MaxPool2D())\n",
    "# model.add(Dropout(0.2))\n",
    "\n",
    "# model.add(Conv2D(128, kernel_size=3, activation='relu'))\n",
    "# model.add(Conv2D(128, kernel_size=3, activation='relu' ))\n",
    "# model.add(BatchNormalization())\n",
    "# model.add(MaxPool2D(pool_size=(3,3)))\n",
    "# model.add(Dropout(0.2))\n",
    "\n",
    "# model.add(Flatten())\n",
    "\n",
    "# model.add(Dense(128, activation='relu'))\n",
    "# model.add(Dropout(0.2))\n",
    "\n",
    "# model.add(Dense(256, activation='relu'))\n",
    "# model.add(Dropout(0.25))\n",
    "\n",
    "# model.add(Dense(7, activation='softmax'))\n",
    "\n",
    "# tf.keras.utils.plot_model(model, 'model.png')"
   ]
  },
  {
   "cell_type": "code",
   "execution_count": 10,
   "metadata": {
    "execution": {
     "iopub.execute_input": "2021-10-03T04:38:53.526735Z",
     "iopub.status.busy": "2021-10-03T04:38:53.523249Z",
     "iopub.status.idle": "2021-10-03T04:38:53.531091Z",
     "shell.execute_reply": "2021-10-03T04:38:53.531793Z",
     "shell.execute_reply.started": "2021-10-02T05:27:17.499143Z"
    },
    "id": "a694ce89",
    "outputId": "89898a05-69c4-4238-c5b4-7f024a650980",
    "papermill": {
     "duration": 0.111469,
     "end_time": "2021-10-03T04:38:53.531965",
     "exception": false,
     "start_time": "2021-10-03T04:38:53.420496",
     "status": "completed"
    },
    "scrolled": true,
    "tags": []
   },
   "outputs": [
    {
     "name": "stdout",
     "output_type": "stream",
     "text": [
      "Model: \"model\"\n",
      "_________________________________________________________________\n",
      "Layer (type)                 Output Shape              Param #   \n",
      "=================================================================\n",
      "input_2 (InputLayer)         [(None, 224, 224, 1)]     0         \n",
      "_________________________________________________________________\n",
      "conv2d (Conv2D)              (None, 224, 224, 3)       30        \n",
      "_________________________________________________________________\n",
      "vgg19 (Functional)           (None, None, None, 512)   20024384  \n",
      "_________________________________________________________________\n",
      "flatten (Flatten)            (None, 25088)             0         \n",
      "_________________________________________________________________\n",
      "dense (Dense)                (None, 7)                 175623    \n",
      "=================================================================\n",
      "Total params: 20,200,037\n",
      "Trainable params: 175,653\n",
      "Non-trainable params: 20,024,384\n",
      "_________________________________________________________________\n"
     ]
    }
   ],
   "source": [
    "model.summary()"
   ]
  },
  {
   "cell_type": "code",
   "execution_count": 11,
   "metadata": {
    "execution": {
     "iopub.execute_input": "2021-10-03T04:38:53.738084Z",
     "iopub.status.busy": "2021-10-03T04:38:53.737061Z",
     "iopub.status.idle": "2021-10-03T04:38:53.747057Z",
     "shell.execute_reply": "2021-10-03T04:38:53.747568Z",
     "shell.execute_reply.started": "2021-10-02T05:28:02.909579Z"
    },
    "id": "8a72e971",
    "papermill": {
     "duration": 0.12159,
     "end_time": "2021-10-03T04:38:53.747730",
     "exception": false,
     "start_time": "2021-10-03T04:38:53.626140",
     "status": "completed"
    },
    "tags": []
   },
   "outputs": [],
   "source": [
    "from tensorflow.keras.optimizers import Adam\n",
    "opt = Adam(learning_rate=0.0001)\n",
    "\n",
    "model.compile(optimizer = opt,\n",
    "              loss='categorical_crossentropy',\n",
    "              metrics=['accuracy']\n",
    ")"
   ]
  },
  {
   "cell_type": "code",
   "execution_count": null,
   "metadata": {
    "_kg_hide-output": true,
    "execution": {
     "iopub.execute_input": "2021-10-03T04:38:53.942415Z",
     "iopub.status.busy": "2021-10-03T04:38:53.941590Z",
     "iopub.status.idle": "2021-10-03T10:29:31.079451Z",
     "shell.execute_reply": "2021-10-03T10:29:31.078653Z",
     "shell.execute_reply.started": "2021-10-02T05:28:27.544977Z"
    },
    "id": "5ebc5ddc",
    "outputId": "34972794-d603-422a-cdcc-f1bbb3e6906b",
    "papermill": {
     "duration": 21037.237789,
     "end_time": "2021-10-03T10:29:31.079627",
     "exception": false,
     "start_time": "2021-10-03T04:38:53.841838",
     "status": "completed"
    },
    "tags": []
   },
   "outputs": [
    {
     "name": "stdout",
     "output_type": "stream",
     "text": [
      "Epoch 1/100\n",
      " 40/449 [=>............................] - ETA: 4:55:33 - loss: 1.8414 - accuracy: 0.2352"
     ]
    }
   ],
   "source": [
    "history = model.fit(training_data, epochs=100, validation_data = valid_data)"
   ]
  },
  {
   "cell_type": "code",
   "execution_count": null,
   "metadata": {
    "execution": {
     "iopub.execute_input": "2021-10-03T10:30:03.540721Z",
     "iopub.status.busy": "2021-10-03T10:30:03.539342Z",
     "iopub.status.idle": "2021-10-03T10:30:04.151617Z",
     "shell.execute_reply": "2021-10-03T10:30:04.151044Z",
     "shell.execute_reply.started": "2021-10-02T05:39:16.582549Z"
    },
    "id": "c977fc55",
    "outputId": "7d4199bc-0fc9-4e0c-fee8-ee10f295942a",
    "papermill": {
     "duration": 17.238643,
     "end_time": "2021-10-03T10:30:04.151770",
     "exception": false,
     "start_time": "2021-10-03T10:29:46.913127",
     "status": "completed"
    },
    "tags": []
   },
   "outputs": [],
   "source": [
    "fig , ax = plt.subplots(1,2)\n",
    "train_acc = history.history['accuracy']\n",
    "train_loss = history.history['loss']\n",
    "fig.set_size_inches(12,4)\n",
    "\n",
    "ax[0].plot(history.history['accuracy'])\n",
    "ax[0].plot(history.history['val_accuracy'])\n",
    "ax[0].set_title('Training Accuracy vs Validation Accuracy')\n",
    "ax[0].set_ylabel('Accuracy')\n",
    "ax[0].set_xlabel('Epoch')\n",
    "ax[0].legend(['Train', 'Validation'], loc='upper left')\n",
    "\n",
    "ax[1].plot(history.history['loss'])\n",
    "ax[1].plot(history.history['val_loss'])\n",
    "ax[1].set_title('Training Loss vs Validation Loss')\n",
    "ax[1].set_ylabel('Loss')\n",
    "ax[1].set_xlabel('Epoch')\n",
    "ax[1].legend(['Train', 'Validation'], loc='upper left')\n",
    "\n",
    "plt.show()"
   ]
  },
  {
   "cell_type": "code",
   "execution_count": null,
   "metadata": {
    "execution": {
     "iopub.execute_input": "2021-10-03T10:30:37.461560Z",
     "iopub.status.busy": "2021-10-03T10:30:37.460124Z",
     "iopub.status.idle": "2021-10-03T10:33:23.583662Z",
     "shell.execute_reply": "2021-10-03T10:33:23.584204Z",
     "shell.execute_reply.started": "2021-10-02T05:39:24.067288Z"
    },
    "id": "00d9b1b3",
    "outputId": "f7f3a3ef-eed9-48c8-82c2-80a3c24b277a",
    "papermill": {
     "duration": 183.488771,
     "end_time": "2021-10-03T10:33:23.584446",
     "exception": false,
     "start_time": "2021-10-03T10:30:20.095675",
     "status": "completed"
    },
    "tags": []
   },
   "outputs": [],
   "source": [
    "train_loss, train_acc = model.evaluate(training_data)\n",
    "test_loss, test_acc = model.evaluate(valid_data)"
   ]
  },
  {
   "cell_type": "code",
   "execution_count": null,
   "metadata": {
    "execution": {
     "iopub.execute_input": "2021-10-03T10:33:56.836885Z",
     "iopub.status.busy": "2021-10-03T10:33:56.835825Z",
     "iopub.status.idle": "2021-10-03T10:33:57.107709Z",
     "shell.execute_reply": "2021-10-03T10:33:57.106608Z",
     "shell.execute_reply.started": "2021-10-02T05:42:28.893036Z"
    },
    "id": "3a2ec627",
    "outputId": "b752cd78-597f-4470-a473-7e6f58536e7e",
    "papermill": {
     "duration": 17.479757,
     "end_time": "2021-10-03T10:33:57.107871",
     "exception": false,
     "start_time": "2021-10-03T10:33:39.628114",
     "status": "completed"
    },
    "tags": []
   },
   "outputs": [],
   "source": [
    "test_img = image.load_img('../input/fer2013/test/angry/PrivateTest_13278552.jpg',target_size = (224,224),color_mode = \"grayscale\")\n",
    "plt.imshow(test_img)"
   ]
  },
  {
   "cell_type": "code",
   "execution_count": null,
   "metadata": {
    "execution": {
     "iopub.execute_input": "2021-10-03T10:34:30.715320Z",
     "iopub.status.busy": "2021-10-03T10:34:30.714237Z",
     "iopub.status.idle": "2021-10-03T10:34:31.220079Z",
     "shell.execute_reply": "2021-10-03T10:34:31.219540Z",
     "shell.execute_reply.started": "2021-10-02T05:42:32.612143Z"
    },
    "id": "6644d0f1",
    "outputId": "52fbcd08-7182-4233-f073-851139b886c2",
    "papermill": {
     "duration": 17.675456,
     "end_time": "2021-10-03T10:34:31.220223",
     "exception": false,
     "start_time": "2021-10-03T10:34:13.544767",
     "status": "completed"
    },
    "tags": []
   },
   "outputs": [],
   "source": [
    "label_dict = {0:'Angry',1:'Disgust',2:'Fear',3:'Happy',4:'Neutral',5:'Sad',6:'Surprise'}\n",
    "\n",
    "test_img = np.expand_dims(test_img,axis = 0)\n",
    "test_img = test_img.reshape(1,224,224,1)\n",
    "result = model.predict(test_img)\n",
    "result = list(result[0])\n",
    "\n",
    "img_index = result.index(max(result))\n",
    "print(label_dict[img_index])"
   ]
  },
  {
   "cell_type": "code",
   "execution_count": null,
   "metadata": {
    "execution": {
     "iopub.execute_input": "2021-10-03T10:35:04.535772Z",
     "iopub.status.busy": "2021-10-03T10:35:04.534573Z",
     "iopub.status.idle": "2021-10-03T10:35:04.708964Z",
     "shell.execute_reply": "2021-10-03T10:35:04.708382Z"
    },
    "id": "e28792bc",
    "papermill": {
     "duration": 17.316397,
     "end_time": "2021-10-03T10:35:04.709119",
     "exception": false,
     "start_time": "2021-10-03T10:34:47.392722",
     "status": "completed"
    },
    "tags": []
   },
   "outputs": [],
   "source": [
    "model.save('model_optimal.h5')"
   ]
  }
 ],
 "metadata": {
  "colab": {
   "name": "facial-emotion-recognition-training.ipynb",
   "provenance": []
  },
  "kernelspec": {
   "display_name": "Python 3",
   "language": "python",
   "name": "python3"
  },
  "language_info": {
   "codemirror_mode": {
    "name": "ipython",
    "version": 3
   },
   "file_extension": ".py",
   "mimetype": "text/x-python",
   "name": "python",
   "nbconvert_exporter": "python",
   "pygments_lexer": "ipython3",
   "version": "3.7.4"
  },
  "papermill": {
   "default_parameters": {},
   "duration": 21440.08996,
   "end_time": "2021-10-03T10:35:24.266103",
   "environment_variables": {},
   "exception": null,
   "input_path": "__notebook__.ipynb",
   "output_path": "__notebook__.ipynb",
   "parameters": {},
   "start_time": "2021-10-03T04:38:04.176143",
   "version": "2.3.3"
  }
 },
 "nbformat": 4,
 "nbformat_minor": 5
}
